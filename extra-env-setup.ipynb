{
 "cells": [
  {
   "cell_type": "markdown",
   "id": "59d2cf9a-f115-4255-9790-ad523d5fa403",
   "metadata": {},
   "source": [
    "# Environment setup\n",
    "\n",
    "The default Jupyter environment doesn't include ipywidgets.\n",
    "\n",
    "The `ipywidgets` module is not mandatory to run these labs.\n",
    "\n",
    "Installing it will help getting rid of the warnings displayed in the output, you can run the following commands and restart the JupyterHub Pod."
   ]
  },
  {
   "cell_type": "code",
   "execution_count": null,
   "id": "f7bf8e0e-102c-4c4f-8475-cbdaa592f211",
   "metadata": {},
   "outputs": [],
   "source": [
    "!pip install --upgrade jupyter ipywidgets\n",
    "!jupyter labextension install @jupyter-widgets/jupyterlab-manager"
   ]
  },
  {
   "cell_type": "markdown",
   "id": "722a9441-aa11-4687-a52a-5b51b2b23e9c",
   "metadata": {},
   "source": [
    "Execute the following commands from the operator host:\n",
    "\n",
    "```\n",
    "kubectl get pods  # to list your JupyterHub pods\n",
    "kubectl delete pod <your-jupyterhub-pod-name>  # to delete the specific pod\n",
    "```"
   ]
  }
 ],
 "metadata": {
  "kernelspec": {
   "display_name": "Python 3 (ipykernel)",
   "language": "python",
   "name": "python3"
  },
  "language_info": {
   "codemirror_mode": {
    "name": "ipython",
    "version": 3
   },
   "file_extension": ".py",
   "mimetype": "text/x-python",
   "name": "python",
   "nbconvert_exporter": "python",
   "pygments_lexer": "ipython3",
   "version": "3.11.9"
  }
 },
 "nbformat": 4,
 "nbformat_minor": 5
}
