{
 "cells": [
  {
   "cell_type": "markdown",
   "id": "221d73ac-f885-4208-8582-80644f9b4c16",
   "metadata": {},
   "source": [
    "# Introduction\n",
    "\n",
    "To interact with the Kubernetes self hosted LLM model we can use the python `OpenAI` module.\n",
    "\n",
    "Let's start by installing the required modules:"
   ]
  },
  {
   "cell_type": "code",
   "execution_count": null,
   "id": "5b0c8535-07d2-4c98-9b4f-3a96445a0320",
   "metadata": {},
   "outputs": [],
   "source": [
    "!python3 -m pip install openai"
   ]
  },
  {
   "cell_type": "markdown",
   "id": "b07be7d3-3ef3-478a-9ed0-89ca3cf77b57",
   "metadata": {},
   "source": [
    "You may customize the base_url, model values based on the deployment."
   ]
  },
  {
   "cell_type": "code",
   "execution_count": null,
   "id": "c7f5ffe3-4bf9-45f6-8265-3a0a894e762f",
   "metadata": {},
   "outputs": [],
   "source": [
    "from getpass import getpass\n",
    "\n",
    "# Update the BaseURL of the model (we are using the service name)\n",
    "# $ kubectl get service\n",
    "base_url = \"http://llm/v1\"\n",
    "\n",
    "# Update the model available to be used\n",
    "model    = \"meta-llama/Meta-Llama-3-8B-Instruct\"\n",
    "\n",
    "llm_api_key  = getpass('Input the model API KEY: ')"
   ]
  },
  {
   "cell_type": "code",
   "execution_count": null,
   "id": "0e33da59-f45f-4761-ae83-d86a3e57870f",
   "metadata": {},
   "outputs": [],
   "source": [
    "from openai import OpenAI\n",
    "\n",
    "client = OpenAI(\n",
    "  base_url = base_url,\n",
    "  api_key = llm_api_key\n",
    ")\n",
    "\n",
    "completion = client.chat.completions.create(\n",
    "  model=model,\n",
    "  messages=[{\"role\":\"user\",\"content\":\"What is the height of the Eiffel tower?\"}],\n",
    "  temperature=0,\n",
    "  top_p=1,\n",
    "  max_tokens=1024,\n",
    "  stream=True\n",
    ")\n",
    "\n",
    "for chunk in completion:\n",
    "  if chunk.choices[0].delta.content is not None:\n",
    "    print(chunk.choices[0].delta.content, end=\"\")"
   ]
  }
 ],
 "metadata": {
  "kernelspec": {
   "display_name": "Python 3 (ipykernel)",
   "language": "python",
   "name": "python3"
  },
  "language_info": {
   "codemirror_mode": {
    "name": "ipython",
    "version": 3
   },
   "file_extension": ".py",
   "mimetype": "text/x-python",
   "name": "python",
   "nbconvert_exporter": "python",
   "pygments_lexer": "ipython3",
   "version": "3.11.9"
  }
 },
 "nbformat": 4,
 "nbformat_minor": 5
}
