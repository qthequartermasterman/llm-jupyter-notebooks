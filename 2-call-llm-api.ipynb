{
 "cells": [
  {
   "cell_type": "markdown",
   "id": "221d73ac-f885-4208-8582-80644f9b4c16",
   "metadata": {},
   "source": [
    "# Introduction\n",
    "\n",
    "To interact with the Kubernetes self hosted LLM model we can use the python `OpenAI` module.\n",
    "\n",
    "Let's start with the environment variable definition."
   ]
  },
  {
   "cell_type": "code",
   "execution_count": 4,
   "id": "c7f5ffe3-4bf9-45f6-8265-3a0a894e762f",
   "metadata": {},
   "outputs": [
    {
     "name": "stdin",
     "output_type": "stream",
     "text": [
      "Input the model API KEY:  ········\n"
     ]
    }
   ],
   "source": [
    "from getpass import getpass\n",
    "\n",
    "# Update the BaseURL of the model (we are using the service name)\n",
    "# kubectl get \n",
    "base_url = \"http://llm/v1\"\n",
    "\n",
    "# Update the model available to be used\n",
    "model    = \"meta-llama/Meta-Llama-3-8B-Instruct\"\n",
    "\n",
    "llm_api_key  = getpass('Input the model API KEY: ')"
   ]
  },
  {
   "cell_type": "code",
   "execution_count": 5,
   "id": "0e33da59-f45f-4761-ae83-d86a3e57870f",
   "metadata": {},
   "outputs": [
    {
     "name": "stdout",
     "output_type": "stream",
     "text": [
      "The height of the Eiffel Tower is 324 meters (1,063 feet) to the top of the iron structure. However, including the antenna on top, the total height is 330 meters (1,083 feet)."
     ]
    }
   ],
   "source": [
    "from openai import OpenAI\n",
    "\n",
    "client = OpenAI(\n",
    "  base_url = base_url,\n",
    "  api_key = llm_api_key\n",
    ")\n",
    "\n",
    "completion = client.chat.completions.create(\n",
    "  model=model,\n",
    "  messages=[{\"role\":\"user\",\"content\":\"What is the height of the Eiffel tower?\"}],\n",
    "  temperature=0,\n",
    "  top_p=1,\n",
    "  max_tokens=1024,\n",
    "  stream=True\n",
    ")\n",
    "\n",
    "for chunk in completion:\n",
    "  if chunk.choices[0].delta.content is not None:\n",
    "    print(chunk.choices[0].delta.content, end=\"\")"
   ]
  }
 ],
 "metadata": {
  "kernelspec": {
   "display_name": "Python 3 (ipykernel)",
   "language": "python",
   "name": "python3"
  },
  "language_info": {
   "codemirror_mode": {
    "name": "ipython",
    "version": 3
   },
   "file_extension": ".py",
   "mimetype": "text/x-python",
   "name": "python",
   "nbconvert_exporter": "python",
   "pygments_lexer": "ipython3",
   "version": "3.11.9"
  }
 },
 "nbformat": 4,
 "nbformat_minor": 5
}
