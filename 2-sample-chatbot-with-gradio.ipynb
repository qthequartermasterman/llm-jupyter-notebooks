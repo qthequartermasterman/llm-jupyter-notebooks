{
 "cells": [
  {
   "cell_type": "markdown",
   "id": "145906a3-3e56-4eb2-97f9-833630d5c4b7",
   "metadata": {},
   "source": [
    "# Introduction\n",
    "\n",
    "In this example we will use [Gradio](https://www.gradio.app/) to create a simple Web chatbot app. This application will be using the self hosted LLM.\n",
    "\n",
    "## Prerequisite\n",
    "\n",
    "Install the required modules: `langchain-community` `langchain` `gradio`"
   ]
  },
  {
   "cell_type": "code",
   "execution_count": null,
   "id": "923a0e7d-cb67-4ffc-9306-c329a28ae4ce",
   "metadata": {},
   "outputs": [],
   "source": [
    "!python3 -m pip install openai langchain-openai langchain-community langchain gradio"
   ]
  },
  {
   "cell_type": "markdown",
   "id": "071c5a6b-28ca-471e-a9bd-b7fd538b2c48",
   "metadata": {},
   "source": [
    "Define the environment parameters:"
   ]
  },
  {
   "cell_type": "code",
   "execution_count": 12,
   "id": "3b5a5d1f-27fe-4056-a625-186e7589812e",
   "metadata": {},
   "outputs": [
    {
     "name": "stdin",
     "output_type": "stream",
     "text": [
      "Input the model API KEY:  ········\n"
     ]
    }
   ],
   "source": [
    "from getpass import getpass\n",
    "\n",
    "# Update the BaseURL of the model (we are using the service name)\n",
    "# $ kubectl get service\n",
    "base_url = \"http://llm/v1\"\n",
    "\n",
    "llm_api_key  = getpass('Input the model API KEY: ')\n",
    "if not llm_api_key:\n",
    "    llm_api_key = \"dummy\""
   ]
  },
  {
   "cell_type": "markdown",
   "id": "48ab1368-8666-48c5-b587-ecf79248b561",
   "metadata": {},
   "source": [
    "Start the ChatBot Web application:"
   ]
  },
  {
   "cell_type": "code",
   "execution_count": 13,
   "id": "86dbfa05-a063-4636-b981-19bcb2ad00eb",
   "metadata": {},
   "outputs": [
    {
     "name": "stdout",
     "output_type": "stream",
     "text": [
      "Discovered model is: meta/llama3-8b-instruct\n",
      "Running on local URL:  http://127.0.0.1:7873\n",
      "Running on public URL: https://78523d47f7388a320c.gradio.live\n",
      "\n",
      "This share link expires in 72 hours. For free permanent hosting and GPU upgrades, run `gradio deploy` from Terminal to deploy to Spaces (https://huggingface.co/spaces)\n"
     ]
    },
    {
     "data": {
      "text/html": [
       "<div><iframe src=\"https://78523d47f7388a320c.gradio.live\" width=\"100%\" height=\"500\" allow=\"autoplay; camera; microphone; clipboard-read; clipboard-write;\" frameborder=\"0\" allowfullscreen></iframe></div>"
      ],
      "text/plain": [
       "<IPython.core.display.HTML object>"
      ]
     },
     "metadata": {},
     "output_type": "display_data"
    },
    {
     "data": {
      "text/plain": []
     },
     "execution_count": 13,
     "metadata": {},
     "output_type": "execute_result"
    }
   ],
   "source": [
    "from langchain_openai import ChatOpenAI\n",
    "from langchain.schema import AIMessage, HumanMessage\n",
    "from openai import OpenAI\n",
    "\n",
    "import gradio as gr\n",
    "\n",
    "\n",
    "client = OpenAI(\n",
    "  base_url = base_url,\n",
    "  api_key = llm_api_key\n",
    ")\n",
    "\n",
    "#discover available models and use the first one\n",
    "available_models = client.models.list()\n",
    "if len(available_models.data):\n",
    "    model = available_models.data[0].id\n",
    "    print(f\"Discovered model is: {model}\")\n",
    "else:\n",
    "    print(\"No model discovered\")\n",
    "    sys.exit(1)\n",
    "\n",
    "\n",
    "llm = ChatOpenAI(\n",
    "    model=model,\n",
    "    openai_api_key=llm_api_key,\n",
    "    openai_api_base=base_url,\n",
    "    # max_tokens=256,\n",
    "    temperature=0,\n",
    ")\n",
    "\n",
    "def stream_response(message, history):\n",
    "    history_langchain_format = []\n",
    "    for human, ai in history:\n",
    "        history_langchain_format.append(HumanMessage(content=human))\n",
    "        history_langchain_format.append(AIMessage(content=ai))\n",
    "   \n",
    "    if message is not None:\n",
    "        history_langchain_format.append(HumanMessage(content=message))\n",
    "        partial_message = \"\"\n",
    "        for response in llm.stream(history_langchain_format):\n",
    "            partial_message += response.content\n",
    "            yield partial_message\n",
    "\n",
    "gr.ChatInterface(stream_response, title=\"Simple ChatBot\", textbox=gr.Textbox(placeholder=\"What you would like to know?\", container=False, scale=7)).launch(share=True)"
   ]
  }
 ],
 "metadata": {
  "kernelspec": {
   "display_name": "Python 3 (ipykernel)",
   "language": "python",
   "name": "python3"
  },
  "language_info": {
   "codemirror_mode": {
    "name": "ipython",
    "version": 3
   },
   "file_extension": ".py",
   "mimetype": "text/x-python",
   "name": "python",
   "nbconvert_exporter": "python",
   "pygments_lexer": "ipython3",
   "version": "3.11.9"
  }
 },
 "nbformat": 4,
 "nbformat_minor": 5
}
